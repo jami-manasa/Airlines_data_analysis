{
 "cells": [
  {
   "cell_type": "markdown",
   "metadata": {},
   "source": [
    "# Task 1\n",
    "\n",
    "---\n",
    "\n",
    "## Web scraping and analysis\n",
    "\n",
    "\n",
    "### Scraping data from Skytrax\n",
    "\n"
   ]
  },
  {
   "cell_type": "code",
   "execution_count": 88,
   "metadata": {},
   "outputs": [
    {
     "name": "stdout",
     "output_type": "stream",
     "text": [
      "Defaulting to user installation because normal site-packages is not writeable\n",
      "Requirement already satisfied: beautifulsoup4 in c:\\users\\manas\\appdata\\roaming\\python\\python310\\site-packages (4.12.3)\n",
      "Requirement already satisfied: soupsieve>1.2 in c:\\users\\manas\\appdata\\roaming\\python\\python310\\site-packages (from beautifulsoup4) (2.6)\n"
     ]
    },
    {
     "name": "stderr",
     "output_type": "stream",
     "text": [
      "\n",
      "[notice] A new release of pip is available: 23.0.1 -> 25.0\n",
      "[notice] To update, run: python.exe -m pip install --upgrade pip\n"
     ]
    }
   ],
   "source": [
    "# pip install pandas\n",
    "# pip install beatifulsoup\n",
    "# \n",
    "# !pip install pandas\n",
    "!pip install beautifulsoup4\n",
    "\n"
   ]
  },
  {
   "cell_type": "code",
   "execution_count": 89,
   "metadata": {},
   "outputs": [],
   "source": [
    "import requests\n",
    "from bs4 import BeautifulSoup\n",
    "import pandas as pd\n"
   ]
  },
  {
   "cell_type": "code",
   "execution_count": 90,
   "metadata": {},
   "outputs": [
    {
     "name": "stdout",
     "output_type": "stream",
     "text": [
      "Scraping page 1\n",
      "   ---> 100 total reviews\n",
      "Scraping page 2\n",
      "   ---> 200 total reviews\n",
      "Scraping page 3\n",
      "   ---> 300 total reviews\n",
      "Scraping page 4\n",
      "   ---> 400 total reviews\n",
      "Scraping page 5\n",
      "   ---> 500 total reviews\n",
      "Scraping page 6\n",
      "   ---> 600 total reviews\n",
      "Scraping page 7\n",
      "   ---> 700 total reviews\n",
      "Scraping page 8\n",
      "   ---> 800 total reviews\n",
      "Scraping page 9\n",
      "   ---> 900 total reviews\n",
      "Scraping page 10\n",
      "   ---> 1000 total reviews\n"
     ]
    }
   ],
   "source": [
    "base_url = \"https://www.airlinequality.com/airline-reviews/british-airways\"\n",
    "pages = 10\n",
    "page_size = 100\n",
    "\n",
    "reviews = []\n",
    "\n",
    "# for i in range(1, pages + 1):\n",
    "for i in range(1, pages + 1):\n",
    "\n",
    "    print(f\"Scraping page {i}\")\n",
    "\n",
    "    # Create URL to collect links from paginated data\n",
    "    url = f\"{base_url}/page/{i}/?sortby=post_date%3ADesc&pagesize={page_size}\"\n",
    "\n",
    "    # Collect HTML data from this page\n",
    "    response = requests.get(url)\n",
    "\n",
    "    # Parse content\n",
    "    content = response.content\n",
    "    parsed_content = BeautifulSoup(content, 'html.parser')\n",
    "    for para in parsed_content.find_all(\"div\", {\"class\": \"text_content\"}):\n",
    "        reviews.append(para.get_text())\n",
    "    \n",
    "    print(f\"   ---> {len(reviews)} total reviews\")"
   ]
  },
  {
   "cell_type": "code",
   "execution_count": 91,
   "metadata": {},
   "outputs": [
    {
     "data": {
      "text/html": [
       "<div>\n",
       "<style scoped>\n",
       "    .dataframe tbody tr th:only-of-type {\n",
       "        vertical-align: middle;\n",
       "    }\n",
       "\n",
       "    .dataframe tbody tr th {\n",
       "        vertical-align: top;\n",
       "    }\n",
       "\n",
       "    .dataframe thead th {\n",
       "        text-align: right;\n",
       "    }\n",
       "</style>\n",
       "<table border=\"1\" class=\"dataframe\">\n",
       "  <thead>\n",
       "    <tr style=\"text-align: right;\">\n",
       "      <th></th>\n",
       "      <th>reviews</th>\n",
       "    </tr>\n",
       "  </thead>\n",
       "  <tbody>\n",
       "    <tr>\n",
       "      <th>0</th>\n",
       "      <td>✅ Trip Verified |   London Heathrow to Male In...</td>\n",
       "    </tr>\n",
       "    <tr>\n",
       "      <th>1</th>\n",
       "      <td>Not Verified |  Very good flight following an ...</td>\n",
       "    </tr>\n",
       "    <tr>\n",
       "      <th>2</th>\n",
       "      <td>Not Verified |  An hour's delay due to late ar...</td>\n",
       "    </tr>\n",
       "    <tr>\n",
       "      <th>3</th>\n",
       "      <td>✅ Trip Verified |   I booked through BA becaus...</td>\n",
       "    </tr>\n",
       "    <tr>\n",
       "      <th>4</th>\n",
       "      <td>✅ Trip Verified |   British airways lost bags ...</td>\n",
       "    </tr>\n",
       "  </tbody>\n",
       "</table>\n",
       "</div>"
      ],
      "text/plain": [
       "                                             reviews\n",
       "0  ✅ Trip Verified |   London Heathrow to Male In...\n",
       "1  Not Verified |  Very good flight following an ...\n",
       "2  Not Verified |  An hour's delay due to late ar...\n",
       "3  ✅ Trip Verified |   I booked through BA becaus...\n",
       "4  ✅ Trip Verified |   British airways lost bags ..."
      ]
     },
     "execution_count": 91,
     "metadata": {},
     "output_type": "execute_result"
    }
   ],
   "source": [
    "df = pd.DataFrame()\n",
    "df[\"reviews\"] = reviews\n",
    "df.head()"
   ]
  },
  {
   "cell_type": "code",
   "execution_count": 92,
   "metadata": {},
   "outputs": [],
   "source": [
    "df.to_csv(\"data/BA_reviews.csv\")"
   ]
  },
  {
   "cell_type": "markdown",
   "metadata": {},
   "source": []
  },
  {
   "cell_type": "code",
   "execution_count": 93,
   "metadata": {},
   "outputs": [],
   "source": [
    "# df.head(5)"
   ]
  },
  {
   "cell_type": "code",
   "execution_count": 94,
   "metadata": {},
   "outputs": [
    {
     "name": "stdout",
     "output_type": "stream",
     "text": [
      "0      |   London Heathrow to Male In new business cl...\n",
      "1      |  Very good flight following an equally good ...\n",
      "2      |  An hour's delay due to late arrival of the ...\n",
      "3      |   I booked through BA because Loganair don’t...\n",
      "4      |   British airways lost bags in LHR then foun...\n",
      "                             ...                        \n",
      "995    |  London to Shanghai. The Concorde room in He...\n",
      "996    |  I have often flown British Airways and have...\n",
      "997    |  Good morning. I would like to write a revie...\n",
      "998    | My flight was cancelled 3 days in a row. Was...\n",
      "999    |  Hong Kong to Copenhagen via London. The who...\n",
      "Name: Cleaned_Review, Length: 1000, dtype: object\n"
     ]
    }
   ],
   "source": [
    "import re\n",
    "df = pd.DataFrame(reviews, columns=['Review'])\n",
    "\n",
    "def clean_review(text):\n",
    "    # Remove \"✅ Trip Verified\", \"Not Verified\" or any other unnecessary prefix\n",
    "    text = re.sub(r\"✅ Trip Verified|Not Verified|Verified|Unverified|||\\\\n\", \"\", text)\n",
    "    # Additional cleaning can be done here, such as removing extra spaces, unwanted characters, etc.\n",
    "    return text.strip()\n",
    "\n",
    "# Apply the cleaning function to the 'Review' column\n",
    "df['Cleaned_Review'] = df['Review'].apply(clean_review)\n",
    "\n",
    "# Print the cleaned reviews\n",
    "print(df['Cleaned_Review'])"
   ]
  },
  {
   "cell_type": "code",
   "execution_count": null,
   "metadata": {},
   "outputs": [],
   "source": []
  },
  {
   "cell_type": "code",
   "execution_count": 95,
   "metadata": {},
   "outputs": [],
   "source": [
    "import pandas as pd\n",
    "import re\n",
    "import nltk\n",
    "from nltk.corpus import stopwords\n",
    "from nltk.tokenize import word_tokenize\n",
    "from nltk.stem import WordNetLemmatizer\n",
    "import matplotlib.pyplot as plt\n",
    "from wordcloud import WordCloud\n",
    "from collections import Counter"
   ]
  },
  {
   "cell_type": "code",
   "execution_count": 96,
   "metadata": {},
   "outputs": [],
   "source": [
    "# pip install pandas nltk matplotlib wordcloud\n"
   ]
  },
  {
   "cell_type": "code",
   "execution_count": 97,
   "metadata": {},
   "outputs": [],
   "source": [
    "import nltk\n",
    "# nltk.download('punkt')\n",
    "# nltk.download('stopwords')\n",
    "# nltk.download('wordnet')\n",
    "# nltk.download('vader_lexicon')  # If you plan to use sentiment analysis\n"
   ]
  },
  {
   "cell_type": "code",
   "execution_count": 18,
   "metadata": {},
   "outputs": [],
   "source": []
  },
  {
   "cell_type": "code",
   "execution_count": 98,
   "metadata": {},
   "outputs": [
    {
     "name": "stdout",
     "output_type": "stream",
     "text": [
      "0      london heathrow male new business class ba con...\n",
      "1      good flight following equally good flight rome...\n",
      "2      hour delay due late arrival incoming aircraft ...\n",
      "3      booked ba loganair dont representative manches...\n",
      "4      british airway lost bag lhr found sent cologne...\n",
      "                             ...                        \n",
      "995    london shanghai concorde room heathrow termina...\n",
      "996    often flown british airway considered good air...\n",
      "997    good morning would like write review british a...\n",
      "998    flight cancelled day row flying thursday final...\n",
      "999    hong kong copenhagen via london whole experien...\n",
      "Name: Processed_Review, Length: 1000, dtype: object\n"
     ]
    }
   ],
   "source": [
    "def clean_review(text):\n",
    "    # Remove '✅ Trip Verified' or any similar labels\n",
    "    text = re.sub(r\"✅ Trip Verified|Not Verified|Verified|Unverified|\\n\", \"\", text)\n",
    "    # Convert to lowercase\n",
    "    text = text.lower()\n",
    "    # Remove punctuation, numbers, and extra spaces\n",
    "    text = re.sub(r\"[^\\w\\s]\", \"\", text)\n",
    "    text = re.sub(r\"\\d+\", \"\", text)\n",
    "    text = re.sub(r\"\\s+\", \" \", text)  # Remove extra spaces\n",
    "    return text.strip()\n",
    "\n",
    "# Apply the cleaning function\n",
    "df['Cleaned_Review'] = df['Review'].apply(clean_review)\n",
    "\n",
    "# Tokenization and removing stopwords\n",
    "stop_words = set(stopwords.words('english'))\n",
    "lemmatizer = WordNetLemmatizer()\n",
    "\n",
    "def tokenize_and_clean(text):\n",
    "    tokens = word_tokenize(text)\n",
    "    tokens = [lemmatizer.lemmatize(word) for word in tokens if word not in stop_words]\n",
    "    return \" \".join(tokens)\n",
    "\n",
    "# Apply tokenization and stopword removal\n",
    "df['Processed_Review'] = df['Cleaned_Review'].apply(tokenize_and_clean)\n",
    "\n",
    "# Print cleaned reviews\n",
    "print(df['Processed_Review'])\n",
    "\n",
    "# Word Frequency Analysis\n",
    "all_reviews = ' '.join(df['Processed_Review'])\n",
    "word_tokens = word_tokenize(all_reviews)\n",
    "\n",
    "# Get word frequency\n",
    "\n",
    "# word_freq = Counter(word_tokens)\n",
    "\n",
    "# # Print most common words\n",
    "# print(word_freq.most_common(10))\n",
    "\n",
    "# # # Visualization with Wordcloud\n",
    "# wordcloud = WordCloud(width=800, height=400, background_color='white').generate_from_frequencies(word_freq)\n",
    "\n",
    "# # Plot the word cloud\n",
    "# plt.figure(figsize=(10, 5))\n",
    "# plt.imshow(wordcloud, interpolation='bilinear')\n",
    "# plt.axis(\"off\")\n",
    "# plt.show()\n",
    "\n"
   ]
  },
  {
   "cell_type": "code",
   "execution_count": 100,
   "metadata": {},
   "outputs": [
    {
     "name": "stdout",
     "output_type": "stream",
     "text": [
      "                                    Processed_Review  Sentiment\n",
      "0  london heathrow male new business class ba con...     0.9846\n",
      "1  good flight following equally good flight rome...     0.8271\n",
      "2  hour delay due late arrival incoming aircraft ...     0.8442\n",
      "3  booked ba loganair dont representative manches...     0.1566\n",
      "4  british airway lost bag lhr found sent cologne...    -0.5423\n"
     ]
    },
    {
     "data": {
      "image/png": "[encoded data removed]",
      "text/plain": [
       "<Figure size 640x480 with 1 Axes>"
      ]
     },
     "metadata": {},
     "output_type": "display_data"
    }
   ],
   "source": [
    "# Optional: Sentiment Analysis\n",
    "from nltk.sentiment import SentimentIntensityAnalyzer\n",
    "\n",
    "sia = SentimentIntensityAnalyzer()\n",
    "df['Sentiment'] = df['Processed_Review'].apply(lambda x: sia.polarity_scores(x)['compound'])\n",
    "\n",
    "# Print sentiment analysis results\n",
    "print(df[['Processed_Review', 'Sentiment']].head())\n",
    "\n",
    "# Example: Positive/Negative Distribution\n",
    "df['Sentiment_Label'] = df['Sentiment'].apply(lambda x: 'Positive' if x > 0 else ('Negative' if x < 0 else 'Neutral'))\n",
    "\n",
    "# Plot sentiment distribution\n",
    "df['Sentiment_Label'].value_counts().plot(kind='bar', color=['green', 'red', 'gray'])\n",
    "# plt.title('Sentiment Distribution')\n",
    "plt.ylabel('Count')\n",
    "plt.xlabel('Sentiment')\n",
    "plt.show()"
   ]
  },
  {
   "cell_type": "code",
   "execution_count": null,
   "metadata": {},
   "outputs": [],
   "source": []
  },
  {
   "cell_type": "code",
   "execution_count": null,
   "metadata": {},
   "outputs": [],
   "source": []
  },
  {
   "cell_type": "code",
   "execution_count": null,
   "metadata": {},
   "outputs": [],
   "source": []
  }
 ],
 "metadata": {
  "kernelspec": {
   "display_name": "Python 3",
   "language": "python",
   "name": "python3"
  },
  "language_info": {
   "codemirror_mode": {
    "name": "ipython",
    "version": 3
   },
   "file_extension": ".py",
   "mimetype": "text/x-python",
   "name": "python",
   "nbconvert_exporter": "python",
   "pygments_lexer": "ipython3",
   "version": "3.10.11"
  },
  "orig_nbformat": 4
 },
 "nbformat": 4,
 "nbformat_minor": 2
}
